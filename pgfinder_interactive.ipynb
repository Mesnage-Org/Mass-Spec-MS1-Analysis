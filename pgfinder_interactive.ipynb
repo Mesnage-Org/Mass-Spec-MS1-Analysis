{
 "cells": [
  {
   "cell_type": "markdown",
   "metadata": {
    "hideCode": true,
    "hidePrompt": true
   },
   "source": [
    "# PGFinder Interactive Notebook\n",
    "\n",
    "This notebook is a basic user interface to allow researchers less familiar with the command line to run PGFinder. Some compromises have been made to make it run as a Jupyter notebook on the free myBinder platform.\n",
    "\n",
    "To use the code to analyse your data you must work from top to bottom on this notebook, following instructions as you go. The first step is to execute all of the \"cells\" in the notebook so they are ready for your input. To do this, click *Kernel*>*Restart & Run All* on the menu, above."
   ]
  },
  {
   "cell_type": "markdown",
   "metadata": {
    "hideCode": true,
    "hidePrompt": true
   },
   "source": [
    "# Setup"
   ]
  },
  {
   "cell_type": "code",
   "execution_count": null,
   "metadata": {
    "hideCode": true,
    "hidePrompt": true
   },
   "outputs": [],
   "source": [
    "import base64\n",
    "import codecs\n",
    "import io\n",
    "import os\n",
    "import ipywidgets as widgets\n",
    "from ipywidgets import HTML\n",
    "from IPython.display import display\n",
    "from ipysheet import from_dataframe\n",
    "import pandas as pd\n",
    "\n",
    "from pgfinder import matching, validation\n",
    "\n",
    "# Get list of modifications\n",
    "allowed_mods = validation.allowed_modifications()\n",
    "\n",
    "# Get built in mass lists\n",
    "mass_lists_path = './data/masses'\n",
    "mass_lists = os.listdir(mass_lists_path)\n",
    "\n",
    "# Utility functions\n",
    "def safe_load_maxquant():\n",
    "    try:\n",
    "        file_contents = uploader.value[list(uploader.value.keys())[0]]['content'] # I hate this line of code\n",
    "        return matching.maxquant_file_reader(io.BytesIO(file_contents))\n",
    "        # display(from_dataframe(uploaded_df.head(10)))\n",
    "    except:\n",
    "        print(\"Could not upload and display file, please make sure you have selected a file.\")\n",
    "\n",
    "# Main analysis function\n",
    "def analysis(b):\n",
    "    # Upload maxquant file\n",
    "    uploaded_df = safe_load_maxquant()\n",
    "    \n",
    "    # Load mass list\n",
    "    csv_filepath = os.path.join(mass_lists_path, rb_masses.value)\n",
    "    theo_masses = matching.theo_masses_reader(csv_filepath)\n",
    "    \n",
    "    # Make sure mod list is a list\n",
    "    mod_list = list(selector_mods.value)\n",
    "    \n",
    "    # Validate inputs\n",
    "    validation.validate_raw_data_df(uploaded_df)\n",
    "    validation.validate_theo_masses_df(theo_masses)\n",
    "    validation.validate_enabled_mod_list(mod_list)\n",
    "\n",
    "    results = matching.data_analysis(uploaded_df, theo_masses, 0.5, mod_list, 10)\n",
    "    \n",
    "    # Make the download button\n",
    "    results_csv_str = results.to_csv()\n",
    "    filename = 'results.csv'\n",
    "    b64 = base64.b64encode(results_csv_str.encode())\n",
    "    payload = b64.decode()\n",
    "\n",
    "    html_buttons = '''<html>\n",
    "    <head>\n",
    "    <meta name=\"viewport\" content=\"width=device-width, initial-scale=1\">\n",
    "    </head>\n",
    "    <body>\n",
    "    <a download=\"{filename}\" href=\"data:text/csv;base64,{payload}\" download>\n",
    "    <button class=\"p-Widget jupyter-widgets jupyter-button widget-button mod-warning\">Download File</button>\n",
    "    </a>\n",
    "    </body>\n",
    "    </html>\n",
    "    '''\n",
    "\n",
    "    html_button = html_buttons.format(payload=payload,filename=filename)\n",
    "    display(HTML(html_button))\n",
    "    \n",
    "# Define widgets\n",
    "\n",
    "# Maxquant file upload\n",
    "uploader = widgets.FileUpload(\n",
    "    accept = '.txt', \n",
    "    description = 'Upload Maxquant file',\n",
    "    multiple = False\n",
    ") \n",
    "\n",
    "# Modifcation selector\n",
    "selector_mods = widgets.SelectMultiple(\n",
    "    options = allowed_mods,\n",
    "    description = 'Modification',\n",
    "    disabled = False\n",
    ")\n",
    "\n",
    "# Mass list selector\n",
    "rb_masses = widgets.RadioButtons(\n",
    "    options = mass_lists,\n",
    "    description = 'Mass List',\n",
    "    disabled = False\n",
    ")\n",
    "\n",
    "# Analysis button\n",
    "button = widgets.Button(description=\"Run Analysis\")\n",
    "button.on_click(analysis)"
   ]
  },
  {
   "cell_type": "markdown",
   "metadata": {
    "hideCode": true,
    "hideOutput": true,
    "hidePrompt": true
   },
   "source": [
    "## User Interface\n",
    "\n",
    "1. Click *Upload* to upload a `.txt` file output by MaxQuant.\n",
    "2. Select modifications (Hold down control / command and click to select mulitple items.)\n",
    "3. Select mass list.\n",
    "4. Click run analysis.\n",
    "5. AFter the analysis is complete, a download button will appear."
   ]
  },
  {
   "cell_type": "code",
   "execution_count": null,
   "metadata": {
    "hideCode": true,
    "hidePrompt": true
   },
   "outputs": [],
   "source": [
    "display(uploader)\n",
    "display(selector_mods) \n",
    "display(rb_masses)\n",
    "display(button)"
   ]
  }
 ],
 "metadata": {
  "celltoolbar": "Hide code",
  "hide_code_all_hidden": true,
  "kernelspec": {
   "display_name": "Python 3",
   "language": "python",
   "name": "python3"
  },
  "language_info": {
   "codemirror_mode": {
    "name": "ipython",
    "version": 3
   },
   "file_extension": ".py",
   "mimetype": "text/x-python",
   "name": "python",
   "nbconvert_exporter": "python",
   "pygments_lexer": "ipython3",
   "version": "3.7.10"
  }
 },
 "nbformat": 4,
 "nbformat_minor": 4
}
